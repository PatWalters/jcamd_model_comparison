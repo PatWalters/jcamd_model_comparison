{
 "cells": [
  {
   "cell_type": "code",
   "execution_count": 1,
   "id": "rotary-animation",
   "metadata": {},
   "outputs": [],
   "source": [
    "from itertools import combinations\n",
    "\n",
    "import mysql.connector as sql\n",
    "import numpy as np\n",
    "import pandas as pd\n",
    "import scikit_posthocs as sp\n",
    "import seaborn as sns\n",
    "from bootstrap import bootstrap_error_estimate\n",
    "from scipy.stats import gmean\n",
    "# Model comparison imports\n",
    "from delong_ci import calc_auc_ci\n",
    "from mlxtend.evaluate import cochrans_q, mcnemar, mcnemar_table\n",
    "from mlxtend.evaluate import paired_ttest_5x2cv\n",
    "#RDKit imports\n",
    "from rdkit import Chem\n",
    "from rdkit import Chem\n",
    "from rdkit.Chem import AllChem\n",
    "# ML imports\n",
    "from lightgbm import LGBMClassifier\n",
    "from sklearn.ensemble import RandomForestClassifier, GradientBoostingClassifier\n",
    "from sklearn.linear_model import LogisticRegression\n",
    "from sklearn.metrics import roc_auc_score, roc_curve\n",
    "from sklearn.model_selection import train_test_split\n",
    "from sklearn.neighbors import KNeighborsClassifier\n",
    "from tqdm.notebook import tqdm"
   ]
  },
  {
   "cell_type": "markdown",
   "id": "exterior-denmark",
   "metadata": {},
   "source": [
    "Establish a connection to a local version of the ChEMBL database. "
   ]
  },
  {
   "cell_type": "code",
   "execution_count": 2,
   "id": "female-principal",
   "metadata": {},
   "outputs": [],
   "source": [
    "con = sql.connect(host='localhost', database='chembl_26', user='pwalters', password='relayrelay')\n",
    "cursor = con.cursor()"
   ]
  },
  {
   "cell_type": "markdown",
   "id": "appointed-basis",
   "metadata": {},
   "source": [
    "Query the ChEMBL database for hERG data. "
   ]
  },
  {
   "cell_type": "code",
   "execution_count": 3,
   "id": "referenced-momentum",
   "metadata": {},
   "outputs": [],
   "source": [
    "query = \"\"\"select canonical_smiles, cs.molregno, md.chembl_id as mol_chembl_id, standard_relation, standard_value,\n",
    "standard_type, standard_units, description, td.organism, assay_type, confidence_score,\n",
    "td.pref_name, td.chembl_id as tgt_chembl_id\n",
    "from activities act\n",
    "join assays ass on act.assay_id = ass.assay_id\n",
    "join target_dictionary td on td.tid = ass.tid\n",
    "join compound_structures cs on cs.molregno = act.molregno\n",
    "join molecule_dictionary md on md.molregno = cs.molregno\n",
    "where ass.tid = 165\n",
    "and assay_type in ('B','F')\n",
    "and standard_value is not null\n",
    "and standard_units = 'nM'\n",
    "and act.standard_relation is not null\n",
    "and standard_type = 'IC50'\n",
    "and standard_relation = '='\"\"\""
   ]
  },
  {
   "cell_type": "code",
   "execution_count": 4,
   "id": "retired-accounting",
   "metadata": {},
   "outputs": [],
   "source": [
    "df_ok = pd.read_sql(query,con=con)"
   ]
  },
  {
   "cell_type": "markdown",
   "id": "finnish-paradise",
   "metadata": {},
   "source": [
    "A quick sanity check to ensure that we extracted the data correctly. "
   ]
  },
  {
   "cell_type": "code",
   "execution_count": 5,
   "id": "recent-bunny",
   "metadata": {},
   "outputs": [
    {
     "data": {
      "text/html": [
       "<div>\n",
       "<style scoped>\n",
       "    .dataframe tbody tr th:only-of-type {\n",
       "        vertical-align: middle;\n",
       "    }\n",
       "\n",
       "    .dataframe tbody tr th {\n",
       "        vertical-align: top;\n",
       "    }\n",
       "\n",
       "    .dataframe thead th {\n",
       "        text-align: right;\n",
       "    }\n",
       "</style>\n",
       "<table border=\"1\" class=\"dataframe\">\n",
       "  <thead>\n",
       "    <tr style=\"text-align: right;\">\n",
       "      <th></th>\n",
       "      <th>canonical_smiles</th>\n",
       "      <th>molregno</th>\n",
       "      <th>mol_chembl_id</th>\n",
       "      <th>standard_relation</th>\n",
       "      <th>standard_value</th>\n",
       "      <th>standard_type</th>\n",
       "      <th>standard_units</th>\n",
       "      <th>description</th>\n",
       "      <th>organism</th>\n",
       "      <th>assay_type</th>\n",
       "      <th>confidence_score</th>\n",
       "      <th>pref_name</th>\n",
       "      <th>tgt_chembl_id</th>\n",
       "    </tr>\n",
       "  </thead>\n",
       "  <tbody>\n",
       "    <tr>\n",
       "      <th>0</th>\n",
       "      <td>COCC(=O)O[C@]1(CCN(C)CCCc2nc3ccccc3[nH]2)CCc2c...</td>\n",
       "      <td>72035</td>\n",
       "      <td>CHEMBL45816</td>\n",
       "      <td>=</td>\n",
       "      <td>1430.0</td>\n",
       "      <td>IC50</td>\n",
       "      <td>nM</td>\n",
       "      <td>K+ channel blocking activity in COS-7 African ...</td>\n",
       "      <td>Homo sapiens</td>\n",
       "      <td>F</td>\n",
       "      <td>8</td>\n",
       "      <td>HERG</td>\n",
       "      <td>CHEMBL240</td>\n",
       "    </tr>\n",
       "    <tr>\n",
       "      <th>1</th>\n",
       "      <td>CC(C)COCC(CN(Cc1ccccc1)c1ccccc1)N1CCCC1</td>\n",
       "      <td>112651</td>\n",
       "      <td>CHEMBL1008</td>\n",
       "      <td>=</td>\n",
       "      <td>550.0</td>\n",
       "      <td>IC50</td>\n",
       "      <td>nM</td>\n",
       "      <td>K+ channel blocking activity in COS-7 African ...</td>\n",
       "      <td>Homo sapiens</td>\n",
       "      <td>F</td>\n",
       "      <td>9</td>\n",
       "      <td>HERG</td>\n",
       "      <td>CHEMBL240</td>\n",
       "    </tr>\n",
       "    <tr>\n",
       "      <th>2</th>\n",
       "      <td>COc1c(N2C[C@@H]3CCCN[C@@H]3C2)c(F)cc2c(=O)c(C(...</td>\n",
       "      <td>1788</td>\n",
       "      <td>CHEMBL32</td>\n",
       "      <td>=</td>\n",
       "      <td>129000.0</td>\n",
       "      <td>IC50</td>\n",
       "      <td>nM</td>\n",
       "      <td>K+ channel blocking activity in Chinese hamste...</td>\n",
       "      <td>Homo sapiens</td>\n",
       "      <td>F</td>\n",
       "      <td>8</td>\n",
       "      <td>HERG</td>\n",
       "      <td>CHEMBL240</td>\n",
       "    </tr>\n",
       "    <tr>\n",
       "      <th>3</th>\n",
       "      <td>COc1c(N2CCNC(C)C2)c(F)cc2c(=O)c(C(=O)O)cn(C3CC...</td>\n",
       "      <td>1712</td>\n",
       "      <td>CHEMBL31</td>\n",
       "      <td>=</td>\n",
       "      <td>130000.0</td>\n",
       "      <td>IC50</td>\n",
       "      <td>nM</td>\n",
       "      <td>K+ channel blocking activity in Chinese hamste...</td>\n",
       "      <td>Homo sapiens</td>\n",
       "      <td>F</td>\n",
       "      <td>8</td>\n",
       "      <td>HERG</td>\n",
       "      <td>CHEMBL240</td>\n",
       "    </tr>\n",
       "    <tr>\n",
       "      <th>4</th>\n",
       "      <td>Cc1c(F)c(N2CCNC(C)C2)cc2c1c(=O)c(C(=O)O)cn2C1CC1</td>\n",
       "      <td>17136</td>\n",
       "      <td>CHEMBL583</td>\n",
       "      <td>=</td>\n",
       "      <td>104000.0</td>\n",
       "      <td>IC50</td>\n",
       "      <td>nM</td>\n",
       "      <td>K+ channel blocking activity in Chinese hamste...</td>\n",
       "      <td>Homo sapiens</td>\n",
       "      <td>F</td>\n",
       "      <td>8</td>\n",
       "      <td>HERG</td>\n",
       "      <td>CHEMBL240</td>\n",
       "    </tr>\n",
       "  </tbody>\n",
       "</table>\n",
       "</div>"
      ],
      "text/plain": [
       "                                    canonical_smiles  molregno mol_chembl_id  \\\n",
       "0  COCC(=O)O[C@]1(CCN(C)CCCc2nc3ccccc3[nH]2)CCc2c...     72035   CHEMBL45816   \n",
       "1            CC(C)COCC(CN(Cc1ccccc1)c1ccccc1)N1CCCC1    112651    CHEMBL1008   \n",
       "2  COc1c(N2C[C@@H]3CCCN[C@@H]3C2)c(F)cc2c(=O)c(C(...      1788      CHEMBL32   \n",
       "3  COc1c(N2CCNC(C)C2)c(F)cc2c(=O)c(C(=O)O)cn(C3CC...      1712      CHEMBL31   \n",
       "4   Cc1c(F)c(N2CCNC(C)C2)cc2c1c(=O)c(C(=O)O)cn2C1CC1     17136     CHEMBL583   \n",
       "\n",
       "  standard_relation  standard_value standard_type standard_units  \\\n",
       "0                 =          1430.0          IC50             nM   \n",
       "1                 =           550.0          IC50             nM   \n",
       "2                 =        129000.0          IC50             nM   \n",
       "3                 =        130000.0          IC50             nM   \n",
       "4                 =        104000.0          IC50             nM   \n",
       "\n",
       "                                         description      organism assay_type  \\\n",
       "0  K+ channel blocking activity in COS-7 African ...  Homo sapiens          F   \n",
       "1  K+ channel blocking activity in COS-7 African ...  Homo sapiens          F   \n",
       "2  K+ channel blocking activity in Chinese hamste...  Homo sapiens          F   \n",
       "3  K+ channel blocking activity in Chinese hamste...  Homo sapiens          F   \n",
       "4  K+ channel blocking activity in Chinese hamste...  Homo sapiens          F   \n",
       "\n",
       "   confidence_score pref_name tgt_chembl_id  \n",
       "0                 8      HERG     CHEMBL240  \n",
       "1                 9      HERG     CHEMBL240  \n",
       "2                 8      HERG     CHEMBL240  \n",
       "3                 8      HERG     CHEMBL240  \n",
       "4                 8      HERG     CHEMBL240  "
      ]
     },
     "execution_count": 5,
     "metadata": {},
     "output_type": "execute_result"
    }
   ],
   "source": [
    "df_ok.head()"
   ]
  },
  {
   "cell_type": "markdown",
   "id": "french-caution",
   "metadata": {},
   "source": [
    "Aggregate the results by taking the geometric mean of replicates. "
   ]
  },
  {
   "cell_type": "code",
   "execution_count": 6,
   "id": "eligible-pressing",
   "metadata": {},
   "outputs": [],
   "source": [
    "grouper =  df_ok.groupby([\"canonical_smiles\",\"molregno\"])\n",
    "data_df = grouper['standard_value'].apply(gmean).to_frame(name = 'IC50').reset_index()"
   ]
  },
  {
   "cell_type": "markdown",
   "id": "electoral-fossil",
   "metadata": {},
   "source": [
    "Add a new column with the pIC50"
   ]
  },
  {
   "cell_type": "code",
   "execution_count": 7,
   "id": "satisfied-hamburg",
   "metadata": {},
   "outputs": [],
   "source": [
    "data_df['pIC50'] = -np.log10(data_df.IC50*1e-9)"
   ]
  },
  {
   "cell_type": "markdown",
   "id": "miniature-advocate",
   "metadata": {},
   "source": [
    "Set the \"Active\" field to 1 if the pIC50 >= 5 (10uM), otherwise 0"
   ]
  },
  {
   "cell_type": "markdown",
   "id": "exciting-supervisor",
   "metadata": {},
   "source": [
    "Look at counts of active and inactive molecules"
   ]
  },
  {
   "cell_type": "code",
   "execution_count": 8,
   "id": "abroad-measure",
   "metadata": {},
   "outputs": [
    {
     "data": {
      "text/plain": [
       "1    4191\n",
       "0    2048\n",
       "Name: Active, dtype: int64"
      ]
     },
     "execution_count": 8,
     "metadata": {},
     "output_type": "execute_result"
    }
   ],
   "source": [
    "data_df['Active'] = [1 if x >= 5 else 0 for x in data_df.pIC50]\n",
    "data_df['Active'].value_counts()"
   ]
  },
  {
   "cell_type": "markdown",
   "id": "geographic-annex",
   "metadata": {},
   "source": [
    "Visualize the activity distribution."
   ]
  },
  {
   "cell_type": "code",
   "execution_count": 9,
   "id": "completed-influence",
   "metadata": {},
   "outputs": [
    {
     "data": {
      "image/png": "[encoded data removed]",
      "text/plain": [
       "<Figure size 572.525x504 with 1 Axes>"
      ]
     },
     "metadata": {},
     "output_type": "display_data"
    }
   ],
   "source": [
    "sns.set_style('whitegrid')\n",
    "sns.set_context('talk')\n",
    "sns.displot(data=data_df,x='pIC50',hue='Active',height=7);"
   ]
  },
  {
   "cell_type": "markdown",
   "id": "geological-agent",
   "metadata": {},
   "source": [
    "Define a function to get a Morgan fingerprint from a SMILES string"
   ]
  },
  {
   "cell_type": "code",
   "execution_count": 10,
   "id": "lucky-former",
   "metadata": {},
   "outputs": [],
   "source": [
    "def gen_fp(smi):\n",
    "    mol = Chem.MolFromSmiles(smi)\n",
    "    fp = None\n",
    "    if mol:\n",
    "        fp = AllChem.GetMorganFingerprintAsBitVect(mol,2)\n",
    "    return fp"
   ]
  },
  {
   "cell_type": "markdown",
   "id": "fuzzy-study",
   "metadata": {},
   "source": [
    "Enable the \"progress_apply\" function that lets us use a progress bar."
   ]
  },
  {
   "cell_type": "code",
   "execution_count": 11,
   "id": "further-drama",
   "metadata": {},
   "outputs": [],
   "source": [
    "tqdm.pandas()"
   ]
  },
  {
   "cell_type": "code",
   "execution_count": 12,
   "id": "automotive-simulation",
   "metadata": {},
   "outputs": [
    {
     "data": {
      "application/vnd.jupyter.widget-view+json": {
       "model_id": "8265a6c8dcc043b38124f08e230170a9",
       "version_major": 2,
       "version_minor": 0
      },
      "text/plain": [
       "  0%|          | 0/6239 [00:00<?, ?it/s]"
      ]
     },
     "metadata": {},
     "output_type": "display_data"
    }
   ],
   "source": [
    "data_df['fp'] = data_df.canonical_smiles.progress_apply(gen_fp)"
   ]
  },
  {
   "cell_type": "markdown",
   "id": "variable-cherry",
   "metadata": {},
   "source": [
    "Remove rows where we didn't successfully generate a fingerprint."
   ]
  },
  {
   "cell_type": "code",
   "execution_count": 13,
   "id": "indian-intranet",
   "metadata": {},
   "outputs": [
    {
     "data": {
      "text/plain": [
       "(6239, 6239)"
      ]
     },
     "execution_count": 13,
     "metadata": {},
     "output_type": "execute_result"
    }
   ],
   "source": [
    "num_orig_rows = len(data_df)\n",
    "data_df.dropna(inplace=True)\n",
    "num_filtered_rows = len(data_df)\n",
    "num_orig_rows, num_filtered_rows"
   ]
  },
  {
   "cell_type": "markdown",
   "id": "sonic-elder",
   "metadata": {},
   "source": [
    "Build a quick ML model as a test. "
   ]
  },
  {
   "cell_type": "code",
   "execution_count": 14,
   "id": "becoming-eight",
   "metadata": {},
   "outputs": [
    {
     "data": {
      "text/plain": [
       "0.6942914297901759"
      ]
     },
     "execution_count": 14,
     "metadata": {},
     "output_type": "execute_result"
    }
   ],
   "source": [
    "train, test = train_test_split(data_df)\n",
    "train_X = np.stack(train.fp)\n",
    "train_y = train.Active.values\n",
    "test_X = np.stack(test.fp)\n",
    "test_Y = test.Active.values\n",
    "lgbm = LGBMClassifier()\n",
    "lgbm.fit(train_X,train_y)\n",
    "pred = lgbm.predict(test_X)\n",
    "auc = roc_auc_score(test_Y,pred)\n",
    "auc"
   ]
  },
  {
   "cell_type": "code",
   "execution_count": 15,
   "id": "turkish-charge",
   "metadata": {},
   "outputs": [
    {
     "data": {
      "image/png": "[encoded data removed]",
      "text/plain": [
       "<Figure size 432x288 with 1 Axes>"
      ]
     },
     "metadata": {},
     "output_type": "display_data"
    }
   ],
   "source": [
    "prob = lgbm.predict_proba(test_X)[:,1]\n",
    "false_pos_rate, true_pos_rate, thresholds = roc_curve(test_Y,prob)\n",
    "ax = sns.lineplot(x=false_pos_rate,y=true_pos_rate)\n",
    "ax.set_xlabel(\"True Positive Rate\")\n",
    "ax.set_ylabel(\"False Positive Rate\")\n",
    "# add the unity line\n",
    "linemin = 0\n",
    "linemax = 1\n",
    "ax.plot([linemin,linemax],[linemin,linemax],color=\"grey\",linewidth=2,linestyle=\"--\");"
   ]
  },
  {
   "cell_type": "markdown",
   "id": "chronic-filename",
   "metadata": {},
   "source": [
    "For 10 folds of cross-validation loop over the different model types, train and test models. "
   ]
  },
  {
   "cell_type": "code",
   "execution_count": 16,
   "id": "finnish-venice",
   "metadata": {},
   "outputs": [
    {
     "data": {
      "application/vnd.jupyter.widget-view+json": {
       "model_id": "34c5b0f64db740f2bf95c930590d8dee",
       "version_major": 2,
       "version_minor": 0
      },
      "text/plain": [
       "  0%|          | 0/10 [00:00<?, ?it/s]"
      ]
     },
     "metadata": {},
     "output_type": "display_data"
    }
   ],
   "source": [
    "method_list = [KNeighborsClassifier, RandomForestClassifier, LGBMClassifier]\n",
    "method_name_list = [x().__class__.__name__ for x in method_list]\n",
    "method_name_list = [x.replace(\"Classifier\",\"\") for x in method_name_list]\n",
    "truth_list = []\n",
    "pred_list = []\n",
    "prob_list = []\n",
    "cv_cycles = 10\n",
    "for i in tqdm(range(0,cv_cycles)):\n",
    "    train, test = train_test_split(data_df)\n",
    "    train_X = np.stack(train.fp)\n",
    "    train_y = train.Active.values\n",
    "    test_X = np.stack(test.fp)\n",
    "    test_y = test.Active.values\n",
    "    cycle_pred = []\n",
    "    cycle_prob = []\n",
    "    for method, method_name in zip(method_list, method_name_list):\n",
    "        if method_name == \"XGB\":\n",
    "            cls = method(use_label_encoder=False, eval_metric='logloss', n_jobs=-1)\n",
    "        else:\n",
    "            cls = method(n_jobs=-1)\n",
    "        cls.fit(train_X, train_y)\n",
    "        cycle_pred.append(cls.predict(test_X))\n",
    "        cycle_prob.append(cls.predict_proba(test_X))\n",
    "\n",
    "    truth_list.append(test.Active.values)        \n",
    "    pred_list.append(cycle_pred)\n",
    "    prob_list.append(cycle_prob)"
   ]
  },
  {
   "cell_type": "markdown",
   "id": "broadband-waste",
   "metadata": {},
   "source": [
    "Build a dataframe with the AUC values collected above. "
   ]
  },
  {
   "cell_type": "code",
   "execution_count": 17,
   "id": "instant-people",
   "metadata": {},
   "outputs": [],
   "source": [
    "auc_result = []\n",
    "for truth, prob in zip(truth_list,prob_list):\n",
    "    for name, p in zip(method_name_list, prob):\n",
    "        auc_result.append([name,roc_auc_score(truth,p[:,1])])\n",
    "auc_df = pd.DataFrame(auc_result,columns=[\"Method\",\"AUC\"])"
   ]
  },
  {
   "cell_type": "markdown",
   "id": "concrete-oklahoma",
   "metadata": {},
   "source": [
    "Here's what people typically do in the literature.  Construct a bar char with the mean AUC for each of the methods, add a \"whisker\" to show the standard deviation.  **In my mind this is not a good way to present data**.  It doesn't adequately reflect the performance across cross validation folds and doesn't show whether the differences between methods are statistically significant. "
   ]
  },
  {
   "cell_type": "code",
   "execution_count": 18,
   "id": "popular-radical",
   "metadata": {},
   "outputs": [
    {
     "data": {
      "image/png": "[encoded data removed]",
      "text/plain": [
       "<Figure size 432x432 with 1 Axes>"
      ]
     },
     "metadata": {},
     "output_type": "display_data"
    }
   ],
   "source": [
    "sns.set(rc={'figure.figsize': (6, 6)})\n",
    "sns.set_style('whitegrid')\n",
    "sns.set_context('talk')\n",
    "ax = sns.barplot(x=\"Method\",y=\"AUC\",data=auc_df)\n",
    "labels = [x.get_text() for x in ax.get_xticklabels()]\n",
    "ax.set(xticklabels=labels)\n",
    "ax.set(ylim=[0,1])\n",
    "_ = ax.set(xlabel=\"\")"
   ]
  },
  {
   "cell_type": "markdown",
   "id": "alone-shadow",
   "metadata": {},
   "source": [
    "Here's a somewhat better approach where we represent the distribution of AUC values as box plots.  This is somewhat better, but we're still not making an adequate comparison between methods. "
   ]
  },
  {
   "cell_type": "code",
   "execution_count": 19,
   "id": "charming-transformation",
   "metadata": {},
   "outputs": [
    {
     "data": {
      "text/plain": [
       "<AxesSubplot:xlabel='Method', ylabel='AUC'>"
      ]
     },
     "execution_count": 19,
     "metadata": {},
     "output_type": "execute_result"
    },
    {
     "data": {
      "image/png": "[encoded data removed]",
      "text/plain": [
       "<Figure size 432x432 with 1 Axes>"
      ]
     },
     "metadata": {},
     "output_type": "display_data"
    }
   ],
   "source": [
    "sns.boxplot(x=\"Method\",y=\"AUC\",data=auc_df)"
   ]
  },
  {
   "cell_type": "markdown",
   "id": "opposite-double",
   "metadata": {},
   "source": [
    "We can calculate a 95% confidence interval around each AUC using [DeLong's method](https://github.com/yandexdataschool/roc_comparison/blob/master/compare_auc_delong_xu.py).  "
   ]
  },
  {
   "cell_type": "code",
   "execution_count": 20,
   "id": "macro-november",
   "metadata": {},
   "outputs": [
    {
     "data": {
      "text/html": [
       "<div>\n",
       "<style scoped>\n",
       "    .dataframe tbody tr th:only-of-type {\n",
       "        vertical-align: middle;\n",
       "    }\n",
       "\n",
       "    .dataframe tbody tr th {\n",
       "        vertical-align: top;\n",
       "    }\n",
       "\n",
       "    .dataframe thead th {\n",
       "        text-align: right;\n",
       "    }\n",
       "</style>\n",
       "<table border=\"1\" class=\"dataframe\">\n",
       "  <thead>\n",
       "    <tr style=\"text-align: right;\">\n",
       "      <th></th>\n",
       "      <th>Cycle</th>\n",
       "      <th>Method</th>\n",
       "      <th>AUC</th>\n",
       "      <th>LB</th>\n",
       "      <th>UB</th>\n",
       "    </tr>\n",
       "  </thead>\n",
       "  <tbody>\n",
       "    <tr>\n",
       "      <th>0</th>\n",
       "      <td>0</td>\n",
       "      <td>KNeighbors</td>\n",
       "      <td>0.804346</td>\n",
       "      <td>0.782493</td>\n",
       "      <td>0.826199</td>\n",
       "    </tr>\n",
       "    <tr>\n",
       "      <th>1</th>\n",
       "      <td>0</td>\n",
       "      <td>RandomForest</td>\n",
       "      <td>0.840062</td>\n",
       "      <td>0.819991</td>\n",
       "      <td>0.860134</td>\n",
       "    </tr>\n",
       "    <tr>\n",
       "      <th>2</th>\n",
       "      <td>0</td>\n",
       "      <td>LGBM</td>\n",
       "      <td>0.838470</td>\n",
       "      <td>0.818640</td>\n",
       "      <td>0.858301</td>\n",
       "    </tr>\n",
       "    <tr>\n",
       "      <th>3</th>\n",
       "      <td>1</td>\n",
       "      <td>KNeighbors</td>\n",
       "      <td>0.817292</td>\n",
       "      <td>0.795493</td>\n",
       "      <td>0.839091</td>\n",
       "    </tr>\n",
       "    <tr>\n",
       "      <th>4</th>\n",
       "      <td>1</td>\n",
       "      <td>RandomForest</td>\n",
       "      <td>0.846191</td>\n",
       "      <td>0.826062</td>\n",
       "      <td>0.866320</td>\n",
       "    </tr>\n",
       "  </tbody>\n",
       "</table>\n",
       "</div>"
      ],
      "text/plain": [
       "   Cycle        Method       AUC        LB        UB\n",
       "0      0    KNeighbors  0.804346  0.782493  0.826199\n",
       "1      0  RandomForest  0.840062  0.819991  0.860134\n",
       "2      0          LGBM  0.838470  0.818640  0.858301\n",
       "3      1    KNeighbors  0.817292  0.795493  0.839091\n",
       "4      1  RandomForest  0.846191  0.826062  0.866320"
      ]
     },
     "execution_count": 20,
     "metadata": {},
     "output_type": "execute_result"
    }
   ],
   "source": [
    "auc_result = []\n",
    "for cycle, [truth, prob] in enumerate(zip(truth_list,prob_list)):\n",
    "    for name, p in zip(method_name_list, prob):\n",
    "        truth = np.array([int(x) for x in truth])\n",
    "        auc, (lb, ub) = calc_auc_ci(truth,p[:,1])\n",
    "        auc_result.append([cycle,name, auc, lb, ub])\n",
    "auc_ci_df = pd.DataFrame(auc_result,columns=[\"Cycle\",\"Method\",\"AUC\",\"LB\",\"UB\"])\n",
    "auc_ci_df.head()"
   ]
  },
  {
   "cell_type": "markdown",
   "id": "south-element",
   "metadata": {},
   "source": [
    "Define a routine for displaying the AUC values and the associated 95% confidence intervals."
   ]
  },
  {
   "cell_type": "code",
   "execution_count": 21,
   "id": "tired-wheat",
   "metadata": {},
   "outputs": [],
   "source": [
    "def ci_pointplot(input_df, x_col=\"Cycle\", y_col=\"AUC\", hue_col=\"Method\", lb_col=\"LB\", ub_col=\"UB\"):\n",
    "    dodge_val = 0.25\n",
    "    palette_name = \"deep\"\n",
    "    cv_cycles = len(input_df[x_col].unique())\n",
    "    ax = sns.pointplot(x=x_col, y=y_col, hue=hue_col, data=input_df, dodge=dodge_val, join=False, palettte=palette_name)\n",
    "    colors = sns.color_palette(palette_name, len(input_df.Method.unique())) * cv_cycles\n",
    "    ax.axvline(0.5, ls=\"--\", c=\"gray\")\n",
    "    for x in np.arange(0.5, cv_cycles, 1):\n",
    "        ax.axvline(x, ls=\"--\", c=\"gray\")\n",
    "    y_val = input_df[y_col]\n",
    "    lb = y_val - input_df[lb_col]\n",
    "    ub = input_df[ub_col] - y_val\n",
    "    x_pos = []\n",
    "    for i in range(0, cv_cycles):\n",
    "        x_pos += [i - dodge_val / 2, i, i + dodge_val / 2]\n",
    "    _ = ax.errorbar(x_pos, y_val, yerr=[lb, ub], fmt=\"none\", capsize=0, color=colors)"
   ]
  },
  {
   "cell_type": "code",
   "execution_count": 22,
   "id": "pharmaceutical-commerce",
   "metadata": {},
   "outputs": [
    {
     "data": {
      "image/png": "[encoded data removed]",
      "text/plain": [
       "<Figure size 1008x504 with 1 Axes>"
      ]
     },
     "metadata": {},
     "output_type": "display_data"
    }
   ],
   "source": [
    "sns.set(rc={'figure.figsize': (14, 7)})\n",
    "sns.set(font_scale=1.5)\n",
    "sns.set_style('white')\n",
    "ci_pointplot(auc_ci_df)"
   ]
  },
  {
   "cell_type": "markdown",
   "id": "conceptual-thinking",
   "metadata": {},
   "source": [
    "In addition to using an analytic method for calculating confidence intervals, we can also bootstrap an estimate. "
   ]
  },
  {
   "cell_type": "code",
   "execution_count": 23,
   "id": "identical-musician",
   "metadata": {},
   "outputs": [
    {
     "data": {
      "application/vnd.jupyter.widget-view+json": {
       "model_id": "52c09cb47e0d4717a8b50c8dcf2a9c55",
       "version_major": 2,
       "version_minor": 0
      },
      "text/plain": [
       "  0%|          | 0/10 [00:00<?, ?it/s]"
      ]
     },
     "metadata": {},
     "output_type": "display_data"
    }
   ],
   "source": [
    "bootstrap_result = []\n",
    "with tqdm(total=len(truth_list)) as pbar:\n",
    "    for cycle,[truth,probs] in enumerate(zip(truth_list,prob_list)):\n",
    "        for name,p in zip(method_name_list,probs):\n",
    "            auc = roc_auc_score(truth,p[:,1])\n",
    "            lb,ub = bootstrap_error_estimate(truth,p[:,1],roc_auc_score)\n",
    "            bootstrap_result.append([cycle,name,auc,lb,ub])\n",
    "        pbar.update(1)\n",
    "bootstrap_df = pd.DataFrame(bootstrap_result,columns=[\"Cycle\",\"Method\",\"AUC\",\"LB\",\"UB\"])"
   ]
  },
  {
   "cell_type": "code",
   "execution_count": 24,
   "id": "loving-operations",
   "metadata": {},
   "outputs": [
    {
     "data": {
      "image/png": "[encoded data removed]",
      "text/plain": [
       "<Figure size 1008x504 with 1 Axes>"
      ]
     },
     "metadata": {},
     "output_type": "display_data"
    }
   ],
   "source": [
    "ci_pointplot(bootstrap_df)"
   ]
  },
  {
   "cell_type": "markdown",
   "id": "mechanical-hartford",
   "metadata": {},
   "source": [
    "[5x2 cross validation](https://sci2s.ugr.es/keel/pdf/algorithm/articulo/dietterich1998.pdf)"
   ]
  },
  {
   "cell_type": "code",
   "execution_count": null,
   "id": "apart-principle",
   "metadata": {},
   "outputs": [
    {
     "name": "stdout",
     "output_type": "stream",
     "text": [
      "Method_1     Method_2     p-value\n"
     ]
    }
   ],
   "source": [
    "X = np.stack(data_df.fp)\n",
    "y = data_df.Active.values\n",
    "classifier_list = []\n",
    "for method, name in zip(method_list, method_name_list):\n",
    "    if name == \"XGB\":\n",
    "        classifier_list.append(method(use_label_encoder=False, eval_metric='logloss', n_jobs=-1))\n",
    "    else:\n",
    "        classifier_list.append(method(n_jobs=-1))\n",
    "print(f\"{'Method_1':12s} {'Method_2':12s} {'p-value'}\")\n",
    "for a,b in combinations(zip(classifier_list,method_name_list),2):\n",
    "    clf1,name1 = a\n",
    "    clf2,name2 = b\n",
    "    t, p = paired_ttest_5x2cv(estimator1=clf1,estimator2=clf2,X=X, y=y, scoring=\"roc_auc\")\n",
    "    print(f\"{name1:12s} {name2:12s} {p:.3f}\")"
   ]
  },
  {
   "cell_type": "markdown",
   "id": "imperial-travel",
   "metadata": {},
   "source": [
    "McNemar's test"
   ]
  },
  {
   "cell_type": "code",
   "execution_count": null,
   "id": "integral-album",
   "metadata": {},
   "outputs": [],
   "source": [
    "mc_result = []\n",
    "for truth, pred in zip(truth_list,pred_list): \n",
    "    for i,j in combinations(range(len(method_list)),2):\n",
    "        mc, mc_pvalue = mcnemar(mcnemar_table(truth, pred[i], pred[j]))\n",
    "        mc_result.append([method_name_list[i],method_name_list[j], mc_pvalue])\n",
    "mc_df = pd.DataFrame(mc_result,columns=[\"Method_1\",\"Method_2\",\"p_value\"])\n",
    "mc_df['Combo'] = mc_df.Method_1 + \"_\" + mc_df.Method_2\n",
    "for k,v in mc_df.groupby(\"Combo\"):\n",
    "    print(k,v.p_value.mean())"
   ]
  },
  {
   "cell_type": "code",
   "execution_count": null,
   "id": "stuffed-marina",
   "metadata": {},
   "outputs": [],
   "source": [
    "len(mc_result)"
   ]
  },
  {
   "cell_type": "code",
   "execution_count": null,
   "id": "preceding-europe",
   "metadata": {},
   "outputs": [],
   "source": [
    "alpha = 0.05/len(pred_list[0])\n",
    "alpha"
   ]
  },
  {
   "cell_type": "code",
   "execution_count": null,
   "id": "parliamentary-edinburgh",
   "metadata": {},
   "outputs": [],
   "source": [
    "ax = sns.boxplot(x=\"p_value\",y=\"Combo\",data=mc_df)\n",
    "ax.set(ylabel=\"\",xlabel=\"p value\")\n",
    "_ = ax.axvline(alpha,c=\"red\",ls=\"--\")"
   ]
  },
  {
   "cell_type": "code",
   "execution_count": null,
   "id": "patient-mobile",
   "metadata": {},
   "outputs": [],
   "source": []
  }
 ],
 "metadata": {
  "kernelspec": {
   "display_name": "Python 3",
   "language": "python",
   "name": "python3"
  },
  "language_info": {
   "codemirror_mode": {
    "name": "ipython",
    "version": 3
   },
   "file_extension": ".py",
   "mimetype": "text/x-python",
   "name": "python",
   "nbconvert_exporter": "python",
   "pygments_lexer": "ipython3",
   "version": "3.9.1"
  },
  "pycharm": {
   "stem_cell": {
    "cell_type": "raw",
    "metadata": {
     "collapsed": false
    },
    "source": []
   }
  }
 },
 "nbformat": 4,
 "nbformat_minor": 5
}
